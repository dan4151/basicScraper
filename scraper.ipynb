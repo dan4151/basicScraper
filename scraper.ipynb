{
  "cells": [
    {
      "cell_type": "code",
      "execution_count": 66,
      "metadata": {
        "colab": {
          "base_uri": "https://localhost:8080/"
        },
        "id": "gVWTeCi0GYAS",
        "outputId": "1dfc5d66-f3fb-4f59-e65a-3896a345ff2e"
      },
      "outputs": [
        {
          "output_type": "execute_result",
          "data": {
            "text/plain": [
              "200"
            ]
          },
          "metadata": {},
          "execution_count": 66
        }
      ],
      "source": [
        "import requests\n",
        "from bs4 import BeautifulSoup as soup\n",
        "\n",
        "# Step 1: Send an HTTP request\n",
        "url = requests.get('https://www.gamespot.com/new-games/?sort=userScore&game_filter%5Bplatform%5D=19&game_filter%5BminRating%5D=&game_filter%5BtimeFrame%5D=all&game_filter%5BstartDate%5D=&game_filter%5BendDate%5D=&game_filter%5Btheme%5D=&game_filter%5Bregion%5D=&___game_filter%5Bdevelopers%5D=&___game_filter%5Bpublishers%5D=')\n",
        "url.status_code\n"
      ]
    },
    {
      "cell_type": "code",
      "source": [
        "bsobj = soup(url.content, 'lxml')\n",
        "titles = []\n",
        "for title in bsobj.findAll('h3' ,{'class' : 'media-title'}):\n",
        "  titles.append(title.text.strip())\n",
        "print(titles)\n",
        "\n"
      ],
      "metadata": {
        "colab": {
          "base_uri": "https://localhost:8080/"
        },
        "id": "2oWu5H4yT_3P",
        "outputId": "50b4d531-6428-4af4-9740-d84d11d0a02d"
      },
      "execution_count": 68,
      "outputs": [
        {
          "output_type": "stream",
          "name": "stdout",
          "text": [
            "['Chrono Trigger', 'The Witcher 3: Wild Hunt', 'Metal Gear Solid 3: Snake Eater', 'Resident Evil 4 (2005)', \"Twinsen's Odyssey\", \"The Baldur's Gate Collection\", 'Persona 4 Golden', 'Grim Fandango', 'Planescape: Torment', 'Mass Effect Trilogy', 'X-COM: UFO Defense', 'Master of Magic', \"Unreal Tournament 2004: Editor's Choice Edition\", 'Chrono Cross', 'Ninja Gaiden (2004)', 'God of War', 'Secret of Mana', 'F.E.A.R. Platinum Collection', 'Shining Force II', 'Tales of Symphonia', 'Fallout 2', \"Baldur's Gate II: Shadows of Amn\", 'Unreal Tournament 2004', 'The Curse of Monkey Island']\n"
          ]
        }
      ]
    },
    {
      "cell_type": "code",
      "source": [
        "bsobj = soup(url.content, 'lxml')\n",
        "dates = []\n",
        "for date in bsobj.findAll('time' ,{'class' : 'media-date'}):\n",
        "  dates.append(date.text.strip())\n",
        "print(dates)"
      ],
      "metadata": {
        "colab": {
          "base_uri": "https://localhost:8080/"
        },
        "id": "kUX6lGCicNkd",
        "outputId": "46b5a19b-6875-487a-85c8-412e10cf8ca1"
      },
      "execution_count": 71,
      "outputs": [
        {
          "output_type": "stream",
          "name": "stdout",
          "text": [
            "['First Released Aug 22, 1995released', 'First Released May 18, 2015released', 'First Released Nov 17, 2004released', 'First Released Jan 11, 2005released', 'First Released Jun 30, 1997released', 'First Released Nov 5, 1999released', 'First Released Nov 20, 2012released', 'First Released Oct 14, 1998released', 'First Released Dec 14, 1999released', 'First Released Nov 6, 2012released', 'First Released 1994unreleased', 'First Released Sep 30, 1994released', 'First Released Mar 17, 2004released', 'First Released Aug 15, 2000released', 'First Released Mar 2, 2004released', 'First Released Apr 20, 2018released', 'First Released October 1993unreleased', 'First Released Nov 6, 2007released', 'First Released Oct 19, 1994released', 'First Released Jul 13, 2004released', 'First Released Oct 29, 1998released', 'First Released Sep 24, 2000released', 'First Released Mar 16, 2004released', 'First Released Oct 31, 1997released']\n"
          ]
        }
      ]
    }
  ],
  "metadata": {
    "colab": {
      "provenance": []
    },
    "kernelspec": {
      "display_name": "Python 3",
      "name": "python3"
    },
    "language_info": {
      "name": "python"
    }
  },
  "nbformat": 4,
  "nbformat_minor": 0
}